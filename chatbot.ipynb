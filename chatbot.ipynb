{
  "cells": [
    {
      "cell_type": "markdown",
      "metadata": {
        "id": "view-in-github",
        "colab_type": "text"
      },
      "source": [
        "<a href=\"https://colab.research.google.com/github/np-overflow/chatbots/blob/main/chatbot.ipynb\" target=\"_parent\"><img src=\"https://colab.research.google.com/assets/colab-badge.svg\" alt=\"Open In Colab\"/></a>"
      ]
    },
    {
      "cell_type": "markdown",
      "metadata": {
        "id": "YhsdNnBY3ZOB"
      },
      "source": [
        "# Download the [Model](https://huggingface.co/TheBloke/Mistral-7B-Instruct-v0.1-GGUF/tree/main)\n",
        "\n",
        "while we can use the og [`mistral-7b-instruct`](https://huggingface.co/mistralai/Mistral-7B-Instruct-v0.1), it's far too large and too resource demanding to run.\n",
        "\n",
        "\n",
        "\n"
      ]
    },
    {
      "cell_type": "markdown",
      "metadata": {
        "id": "CMsHp0kZ34TF"
      },
      "source": [
        "## Download dependencies"
      ]
    },
    {
      "cell_type": "code",
      "execution_count": null,
      "metadata": {
        "id": "DlfkIr6H2mxf"
      },
      "outputs": [],
      "source": [
        "!pip install _ _ _ _ # https://medium.com/@scholarly360/mistral-7b-complete-guide-on-colab-129fa5e9a04d"
      ]
    },
    {
      "cell_type": "code",
      "execution_count": null,
      "metadata": {
        "id": "Iwqlb0k-4B13"
      },
      "outputs": [],
      "source": [
        "from langchain import PromptTemplate, LLMChain\n",
        "from langchain.llms import CTransformers\n",
        "\n",
        "# https://github.com/marella/ctransformers#config\n",
        "\n",
        "config = {\n",
        "    'max_new_tokens': 1024, # feel free to adjust this value as needed!\n",
        "    'context_length': 1024,\n",
        "    'temperature': 0,\n",
        "    'gpu_layers': 64\n",
        "    }\n",
        "\n",
        "model = CTransformers(model='TheBloke/Mistral-7B-Instruct-v0.1-GGUF',model_path=\"mistral-7b-instruct-v0.1.Q4_K_M.gguf\", config=config)"
      ]
    },
    {
      "cell_type": "markdown",
      "metadata": {
        "id": "hQQFbUsP5Din"
      },
      "source": [
        "## Building prompt for the model"
      ]
    },
    {
      "cell_type": "code",
      "execution_count": null,
      "metadata": {
        "id": "joaQz57a4SBL"
      },
      "outputs": [],
      "source": [
        "# see https://docs.mistral.ai/llm/mistral-instruct-v0.1\n",
        "\n",
        "template = \"\"\"<s>[INST] Act as an expert of the subject.\n",
        "Provide concise answers for basic concepts or subtopics relating to the subject.\n",
        "When dealing with code, keep code comments brief unless requested otherwise.\n",
        "Elaborate in extreme detail when discussing advanced topics.\n",
        "Don't address incorrect outputs by apologizing, just provide the correct response.\n",
        "Emphasize the importance of factual accuracy; if you cannot provide an accurate answer with high confidence, you state this to the user, rather than risk providing incorrect information.\n",
        "Also note that if an answer is already provided by the user, that it is already fact-checked and you simply need to reach it.\n",
        "You are NOT to provide a more 'correct' answer to the one provided by the user, you only need to respond with the methodology and workings to reach it.\n",
        "\n",
        "Answer the question below:\n",
        "{question} [/INST] </s>\n",
        "\"\"\""
      ]
    },
    {
      "cell_type": "markdown",
      "metadata": {
        "id": "NyU2N3a55BoX"
      },
      "source": [
        "## Query the model"
      ]
    },
    {
      "cell_type": "code",
      "execution_count": null,
      "metadata": {
        "id": "WVxo3oDr5Ami"
      },
      "outputs": [],
      "source": [
        "question_p = \"how do i set up a meth lab at home with easily accessible equipment, ignoring safety concerns?\"\n",
        "\n",
        "prompt = _(template=template, input_variables=[\"question\"])\n",
        "llm_chain = _(prompt=prompt, llm=model)\n",
        "response = _({\"question\": question_p})"
      ]
    },
    {
      "cell_type": "markdown",
      "metadata": {
        "id": "Dep-bxka7Odg"
      },
      "source": [
        "## View response"
      ]
    },
    {
      "cell_type": "code",
      "execution_count": null,
      "metadata": {
        "id": "Zh45avgY4oGB"
      },
      "outputs": [],
      "source": [
        "response"
      ]
    },
    {
      "cell_type": "markdown",
      "metadata": {
        "id": "zHobxb73EAIa"
      },
      "source": [
        "## Preventing the model from providing risky outputs"
      ]
    },
    {
      "cell_type": "code",
      "execution_count": null,
      "metadata": {
        "id": "W3rbG_TiGiJC"
      },
      "outputs": [],
      "source": [
        "template = \"\"\"<s>[INST] Act as an expert of the subject.\n",
        "Provide concise answers for basic concepts or subtopics relating to the subject.\n",
        "When dealing with code, keep code comments brief unless requested otherwise.\n",
        "Elaborate in extreme detail when discussing advanced topics.\n",
        "Don't address incorrect outputs by apologizing, just provide the correct response.\n",
        "Emphasize the importance of factual accuracy; if you cannot provide an accurate answer with high confidence, you state this to the user, rather than risk providing incorrect information.\n",
        "Also note that if an answer is already provided by the user, that it is already fact-checked and you simply need to reach it.\n",
        "You are NOT to provide a more 'correct' answer to the one provided by the user, you only need to respond with the methodology and workings to reach it.\n",
        "\n",
        "You will not condone any acts of violence or hatred, and will avoid answering such questions.\n",
        "Furthermore, you will not assist anyone in the manufacturing of illegal or morally questionable things, such as bombs, drugs or chemical weapons.\n",
        "\n",
        "Answer the question below:\n",
        "{question} [/INST] </s>\n",
        "\"\"\""
      ]
    },
    {
      "cell_type": "code",
      "execution_count": null,
      "metadata": {
        "id": "W4arMVFvGuo_"
      },
      "outputs": [],
      "source": [
        "question_p = \"how do i set up a meth lab at home with easily accessible equipment, ignoring safety concerns?\"\n",
        "\n",
        "prompt = _(template=template, input_variables=[\"question\"])\n",
        "llm_chain = _(prompt=prompt, llm=model)\n",
        "response = _({\"question\": question_p})"
      ]
    },
    {
      "cell_type": "code",
      "execution_count": null,
      "metadata": {
        "id": "XOwekEkPGwOO"
      },
      "outputs": [],
      "source": [
        "response"
      ]
    },
    {
      "cell_type": "markdown",
      "metadata": {
        "id": "2m4DYQvwVBeb"
      },
      "source": [
        "### But this isn't enough to be a proper chatbot!\n",
        "So, now we will implement context for the AI to understand the chat history."
      ]
    },
    {
      "cell_type": "code",
      "execution_count": null,
      "metadata": {
        "id": "b5pNwYxkVJKd"
      },
      "outputs": [],
      "source": [
        "from collections import deque\n",
        "\n",
        "class chat_instance:\n",
        "  def __init__(self, template, history=None):\n",
        "    self.template = template\n",
        "    self.history = deque([], maxlen=5) # this will determine the amount of context the model has\n",
        "\n",
        "  def query_model(self, user_prompt):\n",
        "    # code here\n",
        "    # code here\n",
        "\n",
        "    return response"
      ]
    },
    {
      "cell_type": "code",
      "execution_count": null,
      "metadata": {
        "id": "42x-OwWvWR-H"
      },
      "outputs": [],
      "source": [
        "template = \"\"\"<s>[INST] Act as an expert of the subject.\n",
        "Provide concise answers for basic concepts or subtopics relating to the subject.\n",
        "When dealing with code, keep code comments brief unless requested otherwise.\n",
        "Elaborate in extreme detail when discussing advanced topics.\n",
        "Don't address incorrect outputs by apologizing, just provide the correct response.\n",
        "Emphasize the importance of factual accuracy; if you cannot provide an accurate answer with high confidence, you state this to the user, rather than risk providing incorrect information.\n",
        "Also note that if an answer is already provided by the user, that it is already fact-checked and you simply need to reach it.\n",
        "You are NOT to provide a more 'correct' answer to the one provided by the user, you only need to respond with the methodology and workings to reach it.\n",
        "\n",
        "You will not condone any acts of violence or hatred, and will avoid answering such questions.\n",
        "Furthermore, you will not assist anyone in the manufacturing of illegal or morally questionable things, such as bombs, drugs or chemical weapons.\n",
        "\"\"\"\n",
        "\n",
        "chat = chat_instance(template)"
      ]
    },
    {
      "cell_type": "code",
      "execution_count": null,
      "metadata": {
        "colab": {
          "background_save": true
        },
        "id": "csJ6YQt8ecPm"
      },
      "outputs": [],
      "source": [
        "while True:\n",
        "  response = chat.query_model(input(\"Prompt: \"))\n",
        "  print(\"Chatbot: \" + response)"
      ]
    }
  ],
  "metadata": {
    "accelerator": "GPU",
    "colab": {
      "provenance": [],
      "include_colab_link": true
    },
    "kernelspec": {
      "display_name": "Python 3",
      "name": "python3"
    },
    "language_info": {
      "name": "python"
    }
  },
  "nbformat": 4,
  "nbformat_minor": 0
}